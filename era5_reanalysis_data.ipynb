{
 "cells": [
  {
   "cell_type": "markdown",
   "id": "eb9dcceb-b046-4808-92fd-8d34c31ac111",
   "metadata": {},
   "source": [
    "#  ERA5 Reanalysis\n",
    "The ERA5 dataset contains information about several physical variables such as temperature and pressure that can be used as input data for WRF-CHEM."
   ]
  },
  {
   "cell_type": "code",
   "execution_count": 3,
   "id": "e8bf8960-ff3d-4b21-b724-45acacd760be",
   "metadata": {},
   "outputs": [
    {
     "name": "stdout",
     "output_type": "stream",
     "text": [
      "python version: 3.11.5\n",
      "pandas version: 2.1.1\n",
      "xarray version: 2023.12.0\n",
      "Matplotlib version: 3.8.0\n"
     ]
    }
   ],
   "source": [
    "import xarray as xr\n",
    "import pandas as pd\n",
    "import numpy as np\n",
    "import matplotlib\n",
    "import matplotlib.pyplot as plt\n",
    "import cdsapi\n",
    "import warnings\n",
    "warnings.filterwarnings('ignore')\n",
    "from platform import python_version\n",
    "print('python version: %s'%python_version())\n",
    "print('pandas version: %s'%pd.__version__)\n",
    "print('xarray version: %s'%xr.__version__)\n",
    "print('Matplotlib version: %s'%matplotlib.__version__)"
   ]
  },
  {
   "cell_type": "markdown",
   "id": "7ac58e7f-cad2-4d61-9059-100353b131e3",
   "metadata": {},
   "source": [
    "## Surface data"
   ]
  },
  {
   "cell_type": "code",
   "execution_count": null,
   "id": "40f2d3d5-9fee-4243-a96d-6dcb2ef0b6dd",
   "metadata": {},
   "outputs": [],
   "source": [
    "c = cdsapi.Client()\n",
    " \n",
    "c.retrieve(\n",
    "    'reanalysis-era5-single-levels',\n",
    "    {\n",
    "        'product_type': 'reanalysis',\n",
    "        'format': 'grib',\n",
    "        'grid': '0.75/0.75',\n",
    "        'variable': [\n",
    "            '10m_u_component_of_wind', '10m_v_component_of_wind', '2m_dewpoint_temperature',\n",
    "            '2m_temperature', 'land_sea_mask', 'mean_sea_level_pressure',\n",
    "            'sea_ice_cover', 'sea_surface_temperature', 'skin_temperature',\n",
    "            'snow_density', 'snow_depth', 'soil_temperature_level_1',\n",
    "            'soil_temperature_level_2', 'soil_temperature_level_3', 'soil_temperature_level_4',\n",
    "            'surface_pressure', 'volumetric_soil_water_layer_1', 'volumetric_soil_water_layer_2',\n",
    "            'volumetric_soil_water_layer_3', 'volumetric_soil_water_layer_4',\n",
    "        ],\n",
    "        'year': '2010',\n",
    "        'month': '01',\n",
    "        'day': [\n",
    "            '01', '02',\n",
    "        ],\n",
    "        'time': [\n",
    "            '00:00', '03:00', '06:00',\n",
    "            '09:00', '12:00', '15:00',\n",
    "            '18:00', '21:00',\n",
    "        ],\n",
    "    },\n",
    "    'era_sfc_20100101-20100102.grib')"
   ]
  },
  {
   "cell_type": "markdown",
   "id": "3838d4a4-64dc-4182-8bdc-0da36498795a",
   "metadata": {},
   "source": [
    "## Pressure level data"
   ]
  },
  {
   "cell_type": "code",
   "execution_count": 7,
   "id": "fc5638b5-1490-4e16-9260-e0b4f40e9d49",
   "metadata": {},
   "outputs": [
    {
     "name": "stderr",
     "output_type": "stream",
     "text": [
      "2024-05-28 16:17:11,479 INFO Welcome to the CDS\n",
      "2024-05-28 16:17:11,480 INFO Sending request to https://ads.atmosphere.copernicus.eu/api/v2/resources/reanalysis-era5-pressure-levels\n"
     ]
    },
    {
     "ename": "Exception",
     "evalue": "Resource reanalysis-era5-pressure-levels not found",
     "output_type": "error",
     "traceback": [
      "\u001b[1;31m---------------------------------------------------------------------------\u001b[0m",
      "\u001b[1;31mHTTPError\u001b[0m                                 Traceback (most recent call last)",
      "File \u001b[1;32m~\\Anaconda3\\envs\\sklearn-env\\Lib\\site-packages\\cdsapi\\api.py:442\u001b[0m, in \u001b[0;36mClient._api\u001b[1;34m(self, url, request, method)\u001b[0m\n\u001b[0;32m    441\u001b[0m \u001b[38;5;28;01mtry\u001b[39;00m:\n\u001b[1;32m--> 442\u001b[0m     \u001b[43mresult\u001b[49m\u001b[38;5;241;43m.\u001b[39;49m\u001b[43mraise_for_status\u001b[49m\u001b[43m(\u001b[49m\u001b[43m)\u001b[49m\n\u001b[0;32m    443\u001b[0m     reply \u001b[38;5;241m=\u001b[39m result\u001b[38;5;241m.\u001b[39mjson()\n",
      "File \u001b[1;32m~\\Anaconda3\\envs\\sklearn-env\\Lib\\site-packages\\requests\\models.py:1021\u001b[0m, in \u001b[0;36mResponse.raise_for_status\u001b[1;34m(self)\u001b[0m\n\u001b[0;32m   1020\u001b[0m \u001b[38;5;28;01mif\u001b[39;00m http_error_msg:\n\u001b[1;32m-> 1021\u001b[0m     \u001b[38;5;28;01mraise\u001b[39;00m HTTPError(http_error_msg, response\u001b[38;5;241m=\u001b[39m\u001b[38;5;28mself\u001b[39m)\n",
      "\u001b[1;31mHTTPError\u001b[0m: 404 Client Error:  for url: https://ads.atmosphere.copernicus.eu/api/v2/resources/reanalysis-era5-pressure-levels",
      "\nDuring handling of the above exception, another exception occurred:\n",
      "\u001b[1;31mException\u001b[0m                                 Traceback (most recent call last)",
      "Cell \u001b[1;32mIn[7], line 3\u001b[0m\n\u001b[0;32m      1\u001b[0m c \u001b[38;5;241m=\u001b[39m cdsapi\u001b[38;5;241m.\u001b[39mClient()\n\u001b[1;32m----> 3\u001b[0m \u001b[43mc\u001b[49m\u001b[38;5;241;43m.\u001b[39;49m\u001b[43mretrieve\u001b[49m\u001b[43m(\u001b[49m\n\u001b[0;32m      4\u001b[0m \u001b[43m    \u001b[49m\u001b[38;5;124;43m'\u001b[39;49m\u001b[38;5;124;43mreanalysis-era5-pressure-levels\u001b[39;49m\u001b[38;5;124;43m'\u001b[39;49m\u001b[43m,\u001b[49m\n\u001b[0;32m      5\u001b[0m \u001b[43m    \u001b[49m\u001b[43m{\u001b[49m\n\u001b[0;32m      6\u001b[0m \u001b[43m        \u001b[49m\u001b[38;5;124;43m'\u001b[39;49m\u001b[38;5;124;43mproduct_type\u001b[39;49m\u001b[38;5;124;43m'\u001b[39;49m\u001b[43m:\u001b[49m\u001b[43m \u001b[49m\u001b[38;5;124;43m'\u001b[39;49m\u001b[38;5;124;43mreanalysis\u001b[39;49m\u001b[38;5;124;43m'\u001b[39;49m\u001b[43m,\u001b[49m\n\u001b[0;32m      7\u001b[0m \u001b[43m        \u001b[49m\u001b[38;5;124;43m'\u001b[39;49m\u001b[38;5;124;43mvariable\u001b[39;49m\u001b[38;5;124;43m'\u001b[39;49m\u001b[43m:\u001b[49m\u001b[43m \u001b[49m\u001b[38;5;124;43m'\u001b[39;49m\u001b[38;5;124;43mtemperature\u001b[39;49m\u001b[38;5;124;43m'\u001b[39;49m\u001b[43m,\u001b[49m\n\u001b[0;32m      8\u001b[0m \u001b[43m        \u001b[49m\u001b[38;5;124;43m'\u001b[39;49m\u001b[38;5;124;43mpressure_level\u001b[39;49m\u001b[38;5;124;43m'\u001b[39;49m\u001b[43m:\u001b[49m\u001b[43m \u001b[49m\u001b[38;5;124;43m'\u001b[39;49m\u001b[38;5;124;43m1000\u001b[39;49m\u001b[38;5;124;43m'\u001b[39;49m\u001b[43m,\u001b[49m\n\u001b[0;32m      9\u001b[0m \u001b[43m        \u001b[49m\u001b[38;5;124;43m'\u001b[39;49m\u001b[38;5;124;43myear\u001b[39;49m\u001b[38;5;124;43m'\u001b[39;49m\u001b[43m:\u001b[49m\u001b[43m \u001b[49m\u001b[38;5;124;43m'\u001b[39;49m\u001b[38;5;124;43m2008\u001b[39;49m\u001b[38;5;124;43m'\u001b[39;49m\u001b[43m,\u001b[49m\n\u001b[0;32m     10\u001b[0m \u001b[43m        \u001b[49m\u001b[38;5;124;43m'\u001b[39;49m\u001b[38;5;124;43mmonth\u001b[39;49m\u001b[38;5;124;43m'\u001b[39;49m\u001b[43m:\u001b[49m\u001b[43m \u001b[49m\u001b[38;5;124;43m'\u001b[39;49m\u001b[38;5;124;43m01\u001b[39;49m\u001b[38;5;124;43m'\u001b[39;49m\u001b[43m,\u001b[49m\n\u001b[0;32m     11\u001b[0m \u001b[43m        \u001b[49m\u001b[38;5;124;43m'\u001b[39;49m\u001b[38;5;124;43mday\u001b[39;49m\u001b[38;5;124;43m'\u001b[39;49m\u001b[43m:\u001b[49m\u001b[43m \u001b[49m\u001b[38;5;124;43m'\u001b[39;49m\u001b[38;5;124;43m01\u001b[39;49m\u001b[38;5;124;43m'\u001b[39;49m\u001b[43m,\u001b[49m\n\u001b[0;32m     12\u001b[0m \u001b[43m        \u001b[49m\u001b[38;5;124;43m'\u001b[39;49m\u001b[38;5;124;43mtime\u001b[39;49m\u001b[38;5;124;43m'\u001b[39;49m\u001b[43m:\u001b[49m\u001b[43m \u001b[49m\u001b[38;5;124;43m'\u001b[39;49m\u001b[38;5;124;43m12:00\u001b[39;49m\u001b[38;5;124;43m'\u001b[39;49m\u001b[43m,\u001b[49m\n\u001b[0;32m     13\u001b[0m \u001b[43m        \u001b[49m\u001b[38;5;124;43m'\u001b[39;49m\u001b[38;5;124;43mformat\u001b[39;49m\u001b[38;5;124;43m'\u001b[39;49m\u001b[43m:\u001b[49m\u001b[43m \u001b[49m\u001b[38;5;124;43m'\u001b[39;49m\u001b[38;5;124;43mnetcdf\u001b[39;49m\u001b[38;5;124;43m'\u001b[39;49m\u001b[43m,\u001b[49m\u001b[43m                 \u001b[49m\u001b[38;5;66;43;03m# Supported format: grib and netcdf. Default: grib\u001b[39;49;00m\n\u001b[0;32m     14\u001b[0m \u001b[43m    \u001b[49m\u001b[43m}\u001b[49m\u001b[43m,\u001b[49m\n\u001b[0;32m     15\u001b[0m \u001b[43m    \u001b[49m\u001b[38;5;124;43m'\u001b[39;49m\u001b[38;5;124;43mdownload.nc\u001b[39;49m\u001b[38;5;124;43m'\u001b[39;49m\u001b[43m)\u001b[49m\n",
      "File \u001b[1;32m~\\Anaconda3\\envs\\sklearn-env\\Lib\\site-packages\\cdsapi\\api.py:364\u001b[0m, in \u001b[0;36mClient.retrieve\u001b[1;34m(self, name, request, target)\u001b[0m\n\u001b[0;32m    363\u001b[0m \u001b[38;5;28;01mdef\u001b[39;00m \u001b[38;5;21mretrieve\u001b[39m(\u001b[38;5;28mself\u001b[39m, name, request, target\u001b[38;5;241m=\u001b[39m\u001b[38;5;28;01mNone\u001b[39;00m):\n\u001b[1;32m--> 364\u001b[0m     result \u001b[38;5;241m=\u001b[39m \u001b[38;5;28;43mself\u001b[39;49m\u001b[38;5;241;43m.\u001b[39;49m\u001b[43m_api\u001b[49m\u001b[43m(\u001b[49m\u001b[38;5;124;43m\"\u001b[39;49m\u001b[38;5;132;43;01m%s\u001b[39;49;00m\u001b[38;5;124;43m/resources/\u001b[39;49m\u001b[38;5;132;43;01m%s\u001b[39;49;00m\u001b[38;5;124;43m\"\u001b[39;49m\u001b[43m \u001b[49m\u001b[38;5;241;43m%\u001b[39;49m\u001b[43m \u001b[49m\u001b[43m(\u001b[49m\u001b[38;5;28;43mself\u001b[39;49m\u001b[38;5;241;43m.\u001b[39;49m\u001b[43murl\u001b[49m\u001b[43m,\u001b[49m\u001b[43m \u001b[49m\u001b[43mname\u001b[49m\u001b[43m)\u001b[49m\u001b[43m,\u001b[49m\u001b[43m \u001b[49m\u001b[43mrequest\u001b[49m\u001b[43m,\u001b[49m\u001b[43m \u001b[49m\u001b[38;5;124;43m\"\u001b[39;49m\u001b[38;5;124;43mPOST\u001b[39;49m\u001b[38;5;124;43m\"\u001b[39;49m\u001b[43m)\u001b[49m\n\u001b[0;32m    365\u001b[0m     \u001b[38;5;28;01mif\u001b[39;00m target \u001b[38;5;129;01mis\u001b[39;00m \u001b[38;5;129;01mnot\u001b[39;00m \u001b[38;5;28;01mNone\u001b[39;00m:\n\u001b[0;32m    366\u001b[0m         result\u001b[38;5;241m.\u001b[39mdownload(target)\n",
      "File \u001b[1;32m~\\Anaconda3\\envs\\sklearn-env\\Lib\\site-packages\\cdsapi\\api.py:464\u001b[0m, in \u001b[0;36mClient._api\u001b[1;34m(self, url, request, method)\u001b[0m\n\u001b[0;32m    459\u001b[0m             e\u001b[38;5;241m.\u001b[39mappend(\n\u001b[0;32m    460\u001b[0m                 \u001b[38;5;124m\"\u001b[39m\u001b[38;5;124mTo access this resource, you first need to accept the terms\u001b[39m\u001b[38;5;124m\"\u001b[39m\n\u001b[0;32m    461\u001b[0m                 \u001b[38;5;124m\"\u001b[39m\u001b[38;5;124mof \u001b[39m\u001b[38;5;124m'\u001b[39m\u001b[38;5;132;01m%s\u001b[39;00m\u001b[38;5;124m'\u001b[39m\u001b[38;5;124m at \u001b[39m\u001b[38;5;132;01m%s\u001b[39;00m\u001b[38;5;124m\"\u001b[39m \u001b[38;5;241m%\u001b[39m (t[\u001b[38;5;124m\"\u001b[39m\u001b[38;5;124mtitle\u001b[39m\u001b[38;5;124m\"\u001b[39m], t[\u001b[38;5;124m\"\u001b[39m\u001b[38;5;124murl\u001b[39m\u001b[38;5;124m\"\u001b[39m])\n\u001b[0;32m    462\u001b[0m             )\n\u001b[0;32m    463\u001b[0m         error \u001b[38;5;241m=\u001b[39m \u001b[38;5;124m\"\u001b[39m\u001b[38;5;124m. \u001b[39m\u001b[38;5;124m\"\u001b[39m\u001b[38;5;241m.\u001b[39mjoin(e)\n\u001b[1;32m--> 464\u001b[0m     \u001b[38;5;28;01mraise\u001b[39;00m \u001b[38;5;167;01mException\u001b[39;00m(error)\n\u001b[0;32m    465\u001b[0m \u001b[38;5;28;01melse\u001b[39;00m:\n\u001b[0;32m    466\u001b[0m     \u001b[38;5;28;01mraise\u001b[39;00m\n",
      "\u001b[1;31mException\u001b[0m: Resource reanalysis-era5-pressure-levels not found"
     ]
    }
   ],
   "source": [
    "c = cdsapi.Client()\n",
    " \n",
    "c.retrieve(\n",
    "    'reanalysis-era5-pressure-levels',\n",
    "    {\n",
    "        'product_type': 'reanalysis',\n",
    "        'format': 'grib',\n",
    "        'grid': '0.75/0.75',\n",
    "        'variable': [\n",
    "            'geopotential', 'relative_humidity', 'temperature',\n",
    "            'u_component_of_wind', 'v_component_of_wind',\n",
    "        ],\n",
    "        'pressure_level': [\n",
    "            '100', '250', '500',\n",
    "            '850', '1000',\n",
    "        ],\n",
    "        'year': '2010',\n",
    "        'month': '01',\n",
    "        'day': [\n",
    "            '01', '02',\n",
    "        ],\n",
    "        'time': [\n",
    "            '00:00', '03:00', '06:00',\n",
    "            '09:00', '12:00', '15:00',\n",
    "            '18:00', '21:00',\n",
    "        ],\n",
    "    },\n",
    "    'era5_pl_20100101-20100102.grib')\n"
   ]
  },
  {
   "cell_type": "code",
   "execution_count": 10,
   "id": "467d2e0f-80af-44ac-b91a-e99e7b472339",
   "metadata": {},
   "outputs": [
    {
     "ename": "ModuleNotFoundError",
     "evalue": "No module named 'ecmwfapi'",
     "output_type": "error",
     "traceback": [
      "\u001b[1;31m---------------------------------------------------------------------------\u001b[0m",
      "\u001b[1;31mModuleNotFoundError\u001b[0m                       Traceback (most recent call last)",
      "Cell \u001b[1;32mIn[10], line 1\u001b[0m\n\u001b[1;32m----> 1\u001b[0m \u001b[38;5;28;01mfrom\u001b[39;00m \u001b[38;5;21;01mecmwfapi\u001b[39;00m \u001b[38;5;28;01mimport\u001b[39;00m ECMWFDataServer\n",
      "\u001b[1;31mModuleNotFoundError\u001b[0m: No module named 'ecmwfapi'"
     ]
    }
   ],
   "source": [
    "from ecmwfapi import ECMWFDataServer"
   ]
  },
  {
   "cell_type": "code",
   "execution_count": 9,
   "id": "49df16a0-241e-49a6-88e5-9130bc4c2c11",
   "metadata": {},
   "outputs": [
    {
     "ename": "NameError",
     "evalue": "name 'ECMWFDataServer' is not defined",
     "output_type": "error",
     "traceback": [
      "\u001b[1;31m---------------------------------------------------------------------------\u001b[0m",
      "\u001b[1;31mNameError\u001b[0m                                 Traceback (most recent call last)",
      "Cell \u001b[1;32mIn[9], line 1\u001b[0m\n\u001b[1;32m----> 1\u001b[0m server \u001b[38;5;241m=\u001b[39m \u001b[43mECMWFDataServer\u001b[49m()\n\u001b[0;32m      3\u001b[0m server\u001b[38;5;241m.\u001b[39mretrieve({\n\u001b[0;32m      4\u001b[0m     \u001b[38;5;124m'\u001b[39m\u001b[38;5;124mdataset\u001b[39m\u001b[38;5;124m'\u001b[39m   : \u001b[38;5;124m\"\u001b[39m\u001b[38;5;124mcams_reanalysis\u001b[39m\u001b[38;5;124m\"\u001b[39m,\n\u001b[0;32m      5\u001b[0m     \u001b[38;5;124m'\u001b[39m\u001b[38;5;124mclass\u001b[39m\u001b[38;5;124m'\u001b[39m     : \u001b[38;5;124m\"\u001b[39m\u001b[38;5;124mmc\u001b[39m\u001b[38;5;124m\"\u001b[39m,\n\u001b[1;32m   (...)\u001b[0m\n\u001b[0;32m     17\u001b[0m     \u001b[38;5;124m'\u001b[39m\u001b[38;5;124mtarget\u001b[39m\u001b[38;5;124m'\u001b[39m    : \u001b[38;5;124m\"\u001b[39m\u001b[38;5;124mAER_20100101_20100102_eac4.grib\u001b[39m\u001b[38;5;124m\"\u001b[39m\n\u001b[0;32m     18\u001b[0m })\n",
      "\u001b[1;31mNameError\u001b[0m: name 'ECMWFDataServer' is not defined"
     ]
    }
   ],
   "source": [
    "server = ECMWFDataServer()\n",
    "    \n",
    "server.retrieve({\n",
    "    'dataset'   : \"cams_reanalysis\",\n",
    "    'class'     : \"mc\",\n",
    "    'type'      : \"an\",\n",
    "    'stream'    : \"oper\",\n",
    "    'expver'    : \"eac4\",\n",
    "    'levtype'   : \"ml\",\n",
    "    'repres'    : \"gg\",\n",
    "    'levellist' : \"7/to/60\",\n",
    "    'param'     : \"T/1.210/2.210/3.210/4.210/5.210/6.210/7.210/8.210/9.210/10.210/11.210\",\n",
    "    'date'      : \"20100101/to/20100102\",\n",
    "    'step'      : \"0\",\n",
    "    'time'      : \"0/to/21/by/3\",\n",
    "    'grid'      : \"0.75/0.75\",\n",
    "    'target'    : \"AER_20100101_20100102_eac4.grib\"\n",
    "})"
   ]
  },
  {
   "cell_type": "code",
   "execution_count": null,
   "id": "ade95584-dab2-4a51-a456-6f89b85eb63f",
   "metadata": {},
   "outputs": [],
   "source": []
  }
 ],
 "metadata": {
  "kernelspec": {
   "display_name": "Python 3 (ipykernel)",
   "language": "python",
   "name": "python3"
  },
  "language_info": {
   "codemirror_mode": {
    "name": "ipython",
    "version": 3
   },
   "file_extension": ".py",
   "mimetype": "text/x-python",
   "name": "python",
   "nbconvert_exporter": "python",
   "pygments_lexer": "ipython3",
   "version": "3.11.5"
  }
 },
 "nbformat": 4,
 "nbformat_minor": 5
}
